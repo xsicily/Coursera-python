{
 "cells": [
  {
   "cell_type": "markdown",
   "metadata": {
    "collapsed": true
   },
   "source": [
    "\n",
    "Practice Project: Updating the CodeSkulptor Docs\n",
    "\n",
    "As part of upgrading CodeSkulptor from Python 2 to Python 3, the original CodeSkulptor Docs (for Python 2) needed to be updated to reflect the language differences between Python 2 and Python 3. The resulting CodeSkulptor3 Docs consist of more than 10,000 lines of HTML. (Note the actual HTML for the Docs was generated via program from a much better organized PHP file that was created by hand.)\n",
    "\n",
    "The most extensive part of this update involved modifying the 600+ code examples using print\\color{red}{\\verb|print|}print to reflect the fact that print\\color{red}{\\verb|print|}print is a function in Python 3. Making this update by hand would have been both time consuming and error prone. In practice project, you will write a script in Python 3 that automatically updates the HTML for the CodeSkulptor Docs such that almost all of the examples use correct Python 3 syntax for print\\color{red}{\\verb|print|}print (i.e. the arguments are enclosed in parentheses).\n",
    "The structure of the HTML used in the CodeSkulptor Docs\n",
    "\n",
    "The starting point for many scripting tasks is to examine the input data and understand its structure. We suggest that you begin by examining the Python 2 version of the Docs in a text editor such as Notepad. You will note that an HTML file is simply a text file organized by nested pairs of tags of the form <foobar>...</foobar>\\verb|<foobar>...</foobar>|<foobar>...</foobar>. Once this structure becomes apparent, automating the update of the example code involving print\\color{red}{\\verb|print|}print is surprisingly straightforward.\n",
    "\n",
    "In designing our script, we need to identify an HTML tag that encapsulates the code examples using print\\color{red}{\\verb|print|}print. After closer examination, we note that the example code is always enclosed by by the HTML tag <pre>\\verb|<pre>|<pre> (meaning preformatted) so that the example is formatted to display as code. This observation suggest that we focus on extracting the <pre>\\verb|<pre>|<pre> blocks from the raw HTML and update any code examples that involve print\\color{red}{\\verb|print|}print in these blocks while leaving the containing text unmodified.\n",
    "Recommended structure for your program\n",
    "\n",
    "Based on the analysis in the previous section, we recommend that your script consist of three Python functions that update increasingly large logical components of the HTML file (a line, a <pre>\\verb|<pre>|<pre> block, and an entire file). The implementation of each of these functions has a similar three part structure:\n",
    "\n",
    "    The function splits the input string into smaller components,\n",
    "    The function then updates a subset of these smaller components using the update function for that component,\n",
    "    Finally, the function reassembles the modified components and returns the updated string.\n",
    "\n",
    "For step two above, the update at the simplest level (a line) can be done directly using basic string operations. With this logic in mind. we suggest that you implement the three functions in this provided starter code:\n",
    "\n",
    "    update_line(line)\\color{red}{\\verb|update_line(line)|}update_line(line) - Takes a string line\\color{red}{\\verb|line|}line corresponding to a single line of Python 2 code. If the line corresponds to a print\\color{red}{\\verb|print|}print statement, the function updates the string such that the arguments to print\\color{red}{\\verb|print|}print are enclosed in parentheses. Note that any white space corresponds to indentation should be preserved. If the line does not correspond to a print\\color{red}{\\verb|print|}print statement, the line is left unchanged.\n",
    "    update_pre_block(pre_block)\\color{red}{\\verb|update_pre_block(pre_block)|}update_pre_block(pre_block) - Takes a string pre_block\\color{red}{\\verb|pre_block|}pre_block corresponding to code example enclosed by a pair of <pre>...</pre>\\verb|<pre>...</pre>|<pre>...</pre> tags and returns a version of the text with the syntax of any enclosed print\\color{red}{\\verb|print|}print statements updated from Python 2 to Python 3. Note this function should call update_line()\\color{red}{\\verb|update_line()|}update_line().\n",
    "    update_file(input_file_name, output_file_name)\\color{red}{\\verb|update_file(input_file_name, output_file_name)|}update_file(input_file_name,output_file_name) - Takes strings input_file_name \\color{red}{\\verb|input_file_name |}input_file_name and output_file_name \\color{red}{\\verb|output_file_name |}output_file_name corresponding to two file names as input. The function should open and read the HTML file corresponding to input_file_name \\color{red}{\\verb|input_file_name |}input_file_name, update the syntax of any examples of print\\color{red}{\\verb|print|}print statements in this file, and write result to the file corresponding to output_file_name \\color{red}{\\verb|output_file_name |}output_file_name. Note this function should call update_pre_block()\\color{red}{\\verb|update_pre_block()|}update_pre_block(). \n",
    "\n",
    "Note that the link to the starter code displays the file in your browser instead of loading the code into CodeSkulptor3. You will need to implement this practice project using desktop Python since CodeSkulptor3 can not access your local file system for security reasons. You can save the start code to your local file system by right-clicking and selecting \"Save as ...\".\n",
    "\n",
    "You are not required to use our design and starter code since this project is not machine graded. If you want more of a challenge and wish to design your own solution, feel free to start from scratch. For required projects that are machine graded, you will need to follow our design to facilitate reliable grading.\n",
    "Testing your script\n",
    "\n",
    "We strongly recommend that you implement and test each function in the order specified above (smallest to largest). For example, do not attempt to implement update_pre_block()\\color{red}{\\verb|update_pre_block()|}update_pre_block() until you are confident that your implementation of update_line()\\color{red}{\\verb|update_line()|}update_line() is correct. For each function, we have provided several tests to get you start in testing your code. We strongly recommend that you create more tests beyond our existing tests to increase your confidence in the correctness of your solution.\n",
    "\n",
    "For update_file()\\color{red}{\\verb|update_file()|}update_file(), the following test files are available: table.html and docs.html. You can open these files using a tool like Notepad to see the raw text as well as use a web-browser to view the formatted HTML. (Clicking on the lower row of tabs in \"docs.html\" displays the various components of the documentation.) Running the provided starter code with your solution on these examples produces two updated files, \"table_updated.html\" and \"docs_updated.html\".\n",
    "\n",
    "Next, you should compare the updated HTML generated by your solution with the updated HTML generated by our solution code. Our updated files are available here: table_updated_solution.html and docs_updated_solution.html. Since determining the correctness of your updated version of the Docs is impossible to do by eye, the provided starter code imports this code that compares two specified files and reports where the first location where the two files differ. To use this code to test update_file()\\color{red}{\\verb|update_file()|}update_file(), download this code into the same directory as your sources code and save it with the name \"examples3_file_diff.py\". You can then compare your updated HTML with our updated HTML solutions.\n",
    "\n",
    "Once you have implemented and tested your implementation, you are welcome to examine our solution to the project that is available here.\n",
    "Hints for the project\n",
    "\n",
    "    Write a version of the each function that splits the input text into appropriate pieces and then reassembles the pieces to return the original text. (We suggest that you use the split()\\color{red}{\\verb|split()|}split() method here.) Once your splitting code is working, modify pieces of the split text appropriately.\n",
    "    Note that our solution code does not update every instance of print\\color{red}{\\verb|print|}print in docs.html correctly. In particular, the example code for bitwise operations in the Docs includes comments in the whitespace after the print\\color{red}{\\verb|print|}print statement. The updated version of these examples incorrectly includes the comment as an argument to print()\\color{red}{\\verb|print()|}print(). You are welcome to update your script to handle this case (or you can simply edit these examples by hand as we did)."
   ]
  },
  {
   "cell_type": "code",
   "execution_count": null,
   "metadata": {},
   "outputs": [],
   "source": []
  }
 ],
 "metadata": {
  "kernelspec": {
   "display_name": "Python 2",
   "language": "python",
   "name": "python2"
  },
  "language_info": {
   "codemirror_mode": {
    "name": "ipython",
    "version": 2
   },
   "file_extension": ".py",
   "mimetype": "text/x-python",
   "name": "python",
   "nbconvert_exporter": "python",
   "pygments_lexer": "ipython2",
   "version": "2.7.6"
  }
 },
 "nbformat": 4,
 "nbformat_minor": 0
}
