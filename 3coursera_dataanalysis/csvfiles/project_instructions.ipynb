{
 "cells": [
  {
   "cell_type": "heading",
   "metadata": {
    "collapsed": true
   },
   "level": 1,
   "source": [
    "Project: Reading and Writing CSV Files"
   ]
  },
  {
   "cell_type": "markdown",
   "metadata": {},
   "source": [
    "\tWe suggest you start by reviewing the Python documentation on the csv module. Your code will rely in the DictReader() and DictWriter() methods from this module. We have provided the following template that you can use to get you started. Note this project should be implemented in desktop Python since CodeSkulptor3 does not implement the csv module.\n",
    "\tThis template includes the signatures (name, parameters, and docstrings) for all of the functions that you will need to write. The code however, simply returns some arbitrary value no matter what the inputs are, so you will need to modify the body of the function to work correctly. You should not change the signature of any of the functions in the template, but you may add any code that you need to. You can also download all of the files used by OwlTest when testing your code as a zip file."
   ]
  },
  {
   "cell_type": "heading",
   "metadata": {},
   "level": 2,
   "source": [
    "Problem 1: Reading the field names from a CSV file"
   ]
  },
  {
   "cell_type": "markdown",
   "metadata": {},
   "source": [
    "First, you will write a function called read_csv_fieldnames\\color{red}{\\verb|read_csv_fieldnames|}read_csv_fieldnames that takes the name of a CSV file and returns a list of the field names from that file. This function assumes that the first row of the CSV file contains the field names. As CSV files can use different separator characters and quote characters, this function takes those characters as input and uses them to properly parse the CSV file.\n",
    "\n",
    "Here is the signature of the read_csv_fieldnames\\color{red}{\\verb|read_csv_fieldnames|}read_csv_fieldnames function:"
   ]
  },
  {
   "cell_type": "markdown",
   "metadata": {},
   "source": [
    "def read_csv_fieldnames(filename, separator, quote):\n",
    "    \"\"\"\n",
    "    Inputs:\n",
    "      filename  - name of CSV file\n",
    "      separator - character that separates fields\n",
    "      quote     - character used to optionally quote fields\n",
    "    Output:\n",
    "      A list of strings corresponding to the field names in \n",
    "      the given CSV file.\n",
    "    \"\"\""
   ]
  },
  {
   "cell_type": "markdown",
   "metadata": {},
   "source": [
    "You need to write the code that implements this function.\n",
    "\n",
    "Hints:\n",
    "\n",
    "    You do not actually need to read any of the rows of the CSV file to obtain the fieldnames.\n",
    "    If you are having trouble implementing this function, we suggest that you review this piece of documentation for the csv module."
   ]
  },
  {
   "cell_type": "heading",
   "metadata": {},
   "level": 2,
   "source": [
    "Problem 2: Reading a CSV file into a list of dictionaries"
   ]
  },
  {
   "cell_type": "markdown",
   "metadata": {},
   "source": [
    "Next, you will write a function called read_csv_as_list_dict\\color{red}{\\verb|read_csv_as_list_dict|}read_csv_as_list_dict that takes the name of a CSV file and returns the data within the file as a list of dictionaries. Each item in the list corresponds to a row in the CSV file. The dictionaries within the list map the field names to the column values for that row. As CSV files can use different separator characters and quote characters, this function takes those characters as input and uses them to properly parse the CSV file.\n",
    "\n",
    "Here is the signature of the read_csv_as_list_dict\\color{red}{\\verb|read_csv_as_list_dict|}read_csv_as_list_dict function:"
   ]
  },
  {
   "cell_type": "markdown",
   "metadata": {},
   "source": [
    "def read_csv_as_list_dict(filename, separator, quote):\n",
    "    \"\"\"\n",
    "    Inputs:\n",
    "      filename  - name of CSV file\n",
    "      separator - character that separates fields\n",
    "      quote     - character used to optionally quote fields\n",
    "    Output:\n",
    "      Returns a list of dictionaries where each item in the list\n",
    "      corresponds to a row in the CSV file.  The dictionaries in the\n",
    "      list map the field names to the field values for that row.\n",
    "    \"\"\""
   ]
  },
  {
   "cell_type": "heading",
   "metadata": {},
   "level": 2,
   "source": [
    "Problem 3: Reading a CSV file into a dictionary of dictionaries"
   ]
  },
  {
   "cell_type": "markdown",
   "metadata": {},
   "source": [
    "Next, you will write a function called read_csv_as_nested_dict that takes the name of a CSV file and returns the data within the file as a dictionary of dictionaries. Each key-value pair in the outer dictionary corresponds to a row in the CSV file. The keys in that dictionary are the values of a header column in the table. The function takes the name of that header column as the input keyfield. If a key appears multiple times in column corresponding to keyfield, the last row containing the key is used to create the dictionary used as the corresponding value.The inner dictionaries within the outer dictionary map the field names to the column values for that row. As CSV files can use different separator characters and quote characters, this function takes those characters as input and uses them to properly parse the CSV file. Note that the key-value pair for keyfield should be in the inner dictionaries, even though its value is used as the key in the outer dictionary.\n",
    "\n",
    "Here is the signature of the read_csv_as_nested_dict function:"
   ]
  },
  {
   "cell_type": "markdown",
   "metadata": {},
   "source": [
    "def read_csv_as_nested_dict(filename, keyfield, separator, quote):\n",
    "    \"\"\"\n",
    "    Inputs:\n",
    "      filename  - name of CSV file\n",
    "      keyfield  - field to use as key for rows\n",
    "      separator - character that separates fields\n",
    "      quote     - character used to optionally quote fields\n",
    "    Output:\n",
    "      Returns a dictionary of dictionaries where the outer dictionary\n",
    "      maps the value in the key_field to the corresponding row in the\n",
    "      CSV file.  The inner dictionaries map the field names to the \n",
    "      field values for that row.\n",
    "    \"\"\""
   ]
  },
  {
   "cell_type": "heading",
   "metadata": {},
   "level": 2,
   "source": [
    "Problem 4: Writing a list of dictionaries to a CSV file"
   ]
  },
  {
   "cell_type": "markdown",
   "metadata": {},
   "source": [
    "Finally, you will write a function called write_csv_from_list_dict\\color{red}{\\verb|write_csv_from_list_dict|}write_csv_from_list_dict. This function takes a table structured as a list of dictionaries (as if read by read_csv_as_list_dict\\color{red}{\\verb|read_csv_as_list_dict|}read_csv_as_list_dict) and writes it to the file named by the filename\\color{red}{\\verb|filename|}filename input. The function also takes a list of field names, fieldnames\\color{red}{\\verb|fieldnames|}fieldnames, as input in order to make sure the fields appear in the appropriate order (as specified by the order of the list fieldnames\\color{red}{\\verb|fieldnames|}fieldnames) in the CSV file. The function also takes a separator character and a quote character that should be used when writing the file. All non-numeric fields should be quoted using the specified quote character.\n",
    "\n",
    "Here is the signature of the write_csv_from_list_dict\\color{red}{\\verb|write_csv_from_list_dict|}write_csv_from_list_dict function:"
   ]
  },
  {
   "cell_type": "markdown",
   "metadata": {},
   "source": [
    "def write_csv_from_list_dict(filename, table, fieldnames, separator, quote):\n",
    "    \"\"\"\n",
    "    Inputs:\n",
    "      filename   - name of CSV file\n",
    "      table      - list of dictionaries containing the table to write\n",
    "      fieldnames - list of strings corresponding to the field names in order\n",
    "      separator  - character that separates fields\n",
    "      quote      - character used to optionally quote fields\n",
    "    Output:\n",
    "      Writes the table to a CSV file with the name filename, using the\n",
    "      given fieldnames.  The CSV file should use the given separator and\n",
    "      quote characters.  All non-numeric fields will be quoted.\n",
    "    \"\"\""
   ]
  },
  {
   "cell_type": "markdown",
   "metadata": {},
   "source": [
    "You need to write the code that implements this function.\n",
    "\n",
    "Hints:\n",
    "\n",
    "    Do not forget to open the CSV file for writing.\n",
    "    Be sure to review the csv module documentation to learn how to write a CSV file.\n",
    "    Many of the options that you can use for reading CSV files are also valid when writing CSV files."
   ]
  }
 ],
 "metadata": {
  "kernelspec": {
   "display_name": "Python 2",
   "language": "python",
   "name": "python2"
  },
  "language_info": {
   "codemirror_mode": {
    "name": "ipython",
    "version": 2
   },
   "file_extension": ".py",
   "mimetype": "text/x-python",
   "name": "python",
   "nbconvert_exporter": "python",
   "pygments_lexer": "ipython2",
   "version": "2.7.6"
  }
 },
 "nbformat": 4,
 "nbformat_minor": 0
}
