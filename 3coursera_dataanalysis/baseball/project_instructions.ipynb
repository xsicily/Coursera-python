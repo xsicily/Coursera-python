{
 "cells": [
  {
   "cell_type": "heading",
   "metadata": {
    "collapsed": true
   },
   "level": 1,
   "source": [
    "Project Description: Analyzing Baseball Data"
   ]
  },
  {
   "cell_type": "markdown",
   "metadata": {},
   "source": [
    "Data Science is a rapidly growing discipline in which large amounts of data are analyzed to extract knowledge and insight from that data. That insight can be used to better explain the past, predict the future, or otherwise make decisions based on data rather than intuition. In this project, we will introduce you to some of the basic tools of data analysis. We will do some basic analyses on Baseball statistics. Large amounts of data on baseball is readily available, making it an ideal topic to explore the ideas behind large scale data analysis. While the particular analyses you will perform are specific to baseball, the underlying ideas and strategies for analyzing data are not.\n",
    "\n",
    "The first project in this course required you to develop code for reading and writing CSV files using dictionaries. For this project, we will provide you with a several CSV files that contain data on the performance of Major League Baseball (MLB) player over a span of more than a century. You will build upon the work you did in the previous project to statistically analyze this data. This historical baseball data can be found at seanlehman.com in his baseball archive. The archive includes the raw data (stored in CSV files) used in computing most important baseball statistics.\n",
    "\n",
    "This zip file includes a collection of CSV files from this archive with data that spans the years 1871-2016. The zip files includes two CSV files \"Master.csv\" and \"Batting.csv\" that contain player information and batting statistics. Since this data is being updated regularly, we ask that you use the 2016 versions of this two files linked here: Master_2016.csv and Batting_2016.csv. Using our provided version of the files allows us all to work from the same raw data.\n",
    "\n",
    "Each line in the file Master.csv (and Master_2016.csv) is indexed by a unique field, \"playerID\"\\color{red}{\\verb|\"playerID\"|}\"playerID\", that corresponds to each player that has played in Major League Baseball. Other fields in the file include the player's first and last names. The file Batting.csv (and Batting_2016.csv) includes season-by-season batting data for each player. The first field identifies the player via his ID while the rightmost fields contain integers that correspond to the player's performance in various basic statistical categories.\n",
    "\n",
    "This project will focus on writing code that will compute several common batting statistics from the data in these CSV files."
   ]
  },
  {
   "cell_type": "heading",
   "metadata": {},
   "level": 1,
   "source": [
    "Project: Analyzing Baseball Data"
   ]
  },
  {
   "cell_type": "markdown",
   "metadata": {},
   "source": [
    "We have provided the following template that you can use to get you started on the project. It includes the signatures (name, parameters, and docstrings) for all of the functions that you will need to write. The code however, simply returns some arbitrary value no matter what the inputs are, so you will need to modify the body of the function to work correctly. You should not change the signature of any of the functions in the template, but you may add any code that you need to. The provided code also includes implementations of the functions read_csv_as_list_dict()\\color{red}{\\verb|read_csv_as_list_dict()|}read_csv_as_list_dict() and read_csv_as_nested_dict()\\color{red}{\\verb|read_csv_as_nested_dict()|}read_csv_as_nested_dict() from the first project, as you will need to use these functions in this project. You can also download all of the files used by OwlTest when testing your code as a zip file."
   ]
  },
  {
   "cell_type": "heading",
   "metadata": {},
   "level": 2,
   "source": [
    "Working with the CSV files"
   ]
  },
  {
   "cell_type": "markdown",
   "metadata": {},
   "source": [
    "As the format of the CSV files that store the baseball data could change (or you could acquire data from somewhere else), the functions that operate directly on the data will all take an \"info\" dictionary that provides information about the files. That way, you do not need to use constants within your code to access the CSV files and their columns. If the name of a particular column changes, for instance, you can simply update the info structure appropriately and all of your code will continue to work. Furthermore, if you have a CSV file that uses different field separators, you can tailor the info structure appropriately to deal with that without needing to change any of your other code. The info dictionaries contain the following keys, all of which are strings (the use of these keys will become apparent as you work on the project, you may want to refer back to this information as you work on the different parts of the project):\n",
    "\n",
    "    \"masterfile\": the name of the master CSV file that includes columns with player IDs and names.\n",
    "    \"battingfile\": the name of the CSV file that includes columns with player IDs and batting data.\n",
    "    \"separator\": the delimiter character used in the two CSV files.\n",
    "    \"quote\": the quote character used in the two CSV files.\n",
    "    \"playerid\": the name of the column header for player IDs in both the master and batting CSV files.\n",
    "    \"firstname\": the name of the column header for player's first names in the master CSV file.\n",
    "    \"lastname\": the name of the column header for player's last names in the master CSV file.\n",
    "    \"yearid\": the name of the column header for the year in the batting CSV file.\n",
    "    \"atbats\": the name of the column header for at-bats data in the batting CSV file.\n",
    "    \"hits\": the name of the column header for hits data in the batting CSV file.\n",
    "    \"doubles\": the name of the column header for doubles data in the batting CSV file.\n",
    "    \"triples\": the name of the column header for triples data in the batting CSV file.\n",
    "    \"homeruns\": the name of the column header for home runs data in the batting CSV file.\n",
    "    \"walks\": the name of the column header for walks data in the batting CSV file.\n",
    "    \"battingfields\": a list of column header names that correspond to batting data in the batting CSV file.\n",
    "\n",
    "If you look in the template file, you will see an example of such an \"info\" dictionary that is used to access the baseball data archive discussed above. It looks as follows:"
   ]
  },
  {
   "cell_type": "markdown",
   "metadata": {},
   "source": [
    "    baseballdatainfo = {\n",
    "        \"masterfile\": \"Master_2016.csv\",   # Name of Master CSV file\n",
    "        \"battingfile\": \"Batting_2016.csv\", # Name of Batting CSV file\n",
    "        \"separator\": \",\",                  # Separator character in CSV files\n",
    "        \"quote\": '\"',                      # Quote character in CSV files\n",
    "        \"playerid\": \"playerID\",            # Player ID field name\n",
    "        \"firstname\": \"nameFirst\",          # First name field name\n",
    "        \"lastname\": \"nameLast\",            # Last name field name\n",
    "        \"yearid\": \"yearID\",                # Year field name\n",
    "        \"atbats\": \"AB\",                    # At bats field name\n",
    "        \"hits\": \"H\",                       # Hits field name\n",
    "        \"doubles\": \"2B\",                   # Doubles field name\n",
    "        \"triples\": \"3B\",                   # Triples field name\n",
    "        \"homeruns\": \"HR\",                  # Home runs field name\n",
    "        \"walks\": \"BB\",                     # Walks field name\n",
    "        \"battingfields\": [\"AB\", \"H\", \"2B\", \"3B\", \"HR\", \"BB\"]\n",
    "    }"
   ]
  },
  {
   "cell_type": "markdown",
   "metadata": {},
   "source": [
    "As you can see, if you wanted to access the master CSV file, you would therefore open the file named baseballdatainfo[\"masterfile\"]\\color{red}{\\verb!baseballdatainfo[\"masterfile\"]!}baseballdatainfo[\"masterfile\"]. Once you have read the CSV file, you could access the column containing player's first names using the key baseballdatainfo[\"firstname\"]\\color{red}{\\verb!baseballdatainfo[\"firstname\"]!}baseballdatainfo[\"firstname\"]. If you look at the batting statistics formulas (discussed below) in the template, you can also see how they use the \"info\" dictionary in order to access particular batting statistics."
   ]
  },
  {
   "cell_type": "heading",
   "metadata": {},
   "level": 2,
   "source": [
    "Provided baseball statistical functions"
   ]
  },
  {
   "cell_type": "markdown",
   "metadata": {},
   "source": [
    "We have also provided implementations of functions that compute three important statistics from the batting data. These functions are\n",
    "\n",
    "    batting_average(baseball_info, batting_stats)\\color{red}{\\verb|batting_average(baseball_info, batting_stats)|}batting_average(baseball_info,batting_stats) - Takes dictionary with batting statistics and computes the player's batting average.\n",
    "    onbase_percentage(baseball_info, batting_stats)\\color{red}{\\verb|onbase_percentage(baseball_info, batting_stats)|}onbase_percentage(baseball_info,batting_stats) - Takes dictionary with batting statistics and computes the player's on-base percentage.\n",
    "    slugging_percentage(baseball_info, batting_stats)\\color{red}{\\verb|slugging_percentage(baseball_info, batting_stats)|}slugging_percentage(baseball_info,batting_stats) - Takes dictionary with batting statistics and computes the player's slugging percentage.\n",
    "\n",
    "Note that if the player has fewer than 500500500 batting attempts (at-bats), each function returns zero to eliminate statistical outliers with a small number of at-bats. You can also create additional statistical functions using lambda\\color{red}{\\verb|lambda|}lambda. For instance, you could build a lambda\\color{red}{\\verb|lambda|}lambda function that computes a player's on-base plus slugging percentage (OPS) by adding together the results of calling onbase_percentage\\color{red}{\\verb|onbase_percentage|}onbase_percentage and slugging_percentage\\color{red}{\\verb|slugging_percentage|}slugging_percentage."
   ]
  },
  {
   "cell_type": "heading",
   "metadata": {},
   "level": 1,
   "source": [
    "Part 1 - Compute players with top batting statistics by year"
   ]
  },
  {
   "cell_type": "markdown",
   "metadata": {},
   "source": [
    " Your task for this part of the project will be to write four functions that can used in combination to compute the top players based on a provided statistical formula for a given year. These functions will select a subset of the data and compute the provided statistic on this data.\n",
    "\n",
    "First, you will write filter_by_year\\color{red}{\\verb|filter_by_year|}filter_by_year. This function should filter a list of batting statistics dictionaries to return a new list of batting statistics dictionaries that consist only of those statistics in the input which correspond to the given year. Each batting statistics dictionary in the input corresponds to the statistics for a single player for a single year. A batting statistics dictionary is a dictionary whose keys (all strings) include a player id, a year, various batting statistics, and possibly other information. As you only need the name of the \"year\" column for this function, it is given as an input (yearid\\color{red}{\\verb|yearid|}yearid). This function should not modify the batting statistics dictionaries in any way, rather it should simply return a list that is similar to the input list of statistics, only it is potentially smaller (assuming that the input contains statistics from multiple years). The filter_by_year\\color{red}{\\verb|filter_by_year|}filter_by_year function has the following signature:"
   ]
  },
  {
   "cell_type": "markdown",
   "metadata": {},
   "source": [
    "def filter_by_year(statistics, year, yearid):\n",
    "    \"\"\"\n",
    "    Inputs:\n",
    "      statistics - List of batting statistics dictionaries\n",
    "      year       - Year to filter by\n",
    "      yearid     - Year ID field in statistics\n",
    "    Outputs:\n",
    "      Returns a list of batting statistics dictionaries that\n",
    "      are from the input year.\n",
    "    \"\"\""
   ]
  },
  {
   "cell_type": "markdown",
   "metadata": {},
   "source": [
    "Hints:\n",
    "\n",
    "    The year will be passed to this function as an integer, such as 1999\\color{red}{\\verb!1999!}1999. Note, however, that when you read the baseball data from the CSV file, the year will be read as a string, such as \"1999\"\\color{red}{\\verb!\"1999\"!}\"1999\". Make sure that you convert these to the same type before comparing them in order to do the filtering.\n",
    "\n",
    "Next, you will write top_player_ids\\color{red}{\\verb|top_player_ids|}top_player_ids. This function should compute the top numplayers\\color{red}{\\verb|numplayers|}numplayers players with the given compound statistic computed by formula\\color{red}{\\verb|formula|}formula. The input formula\\color{red}{\\verb|formula|}formula function will return a floating point number corresponding to the compound statistic for the given input batting statistics dictionary. The batting statistics are again given as a list of batting statistics dictionaries of the same format that was used by filter_by_year\\color{red}{\\verb|filter_by_year|}filter_by_year. You will need to pass the baseball info\\color{red}{\\verb|info|}info dictionary to the statistics formula so that it can access the appropriate data out of the batting statistics dictionaries. The top_player_ids\\color{red}{\\verb|top_player_ids|}top_player_ids function should return a list of tuples, where the first element of the tuple is a player ID and the second element is the statistic for that player computed by formula\\color{red}{\\verb|formula|}formula. This list should be sorted in descending order based upon the value of the computed statistic.\n",
    "\n",
    "Note, that in general, there could be ties whereby two players have exactly the same value for the computed statistic. In general, you would have to decide what to do in that case. For baseball statistics, returning the tied players in any order is probably not a problem. However, if you are computing the top 10 players and the 10th and 11th player are tied, you would arguably want to return a list with both of them in it as tied for 10th place. For the purposes of this project, however, we are going to ignore ties and the machine grader (OwlTest) will not test any situations in which there are ties. In fact, the values of the computed statistic will always be different by at least 0.000010.000010.00001. So, you do not need to write any code to deal with the case where there is a tie. Just keep in mind that if you are doing similar types of analyses in the future, you should think about what you want to do if there are ties.\n",
    "\n",
    "The top_player_ids\\color{red}{\\verb|top_player_ids|}top_player_ids function has the following signature:"
   ]
  },
  {
   "cell_type": "markdown",
   "metadata": {},
   "source": [
    "def top_player_ids(info, statistics, formula, numplayers):\n",
    "    \"\"\"\n",
    "    Inputs:\n",
    "      info       - Baseball data information dictionary\n",
    "      statistics - List of batting statistics dictionaries\n",
    "      formula    - function that takes an info dictionary and a\n",
    "                   batting statistics dictionary as input and \n",
    "                   computes a compound statistic\n",
    "      numplayers - Number of top players to return\n",
    "    Outputs:\n",
    "      Returns a list of tuples, player ID and compound statistic\n",
    "      computed by formula, of the top numplayers players sorted in\n",
    "      decreasing order of the computed statistic.\n",
    "    \"\"\""
   ]
  },
  {
   "cell_type": "markdown",
   "metadata": {},
   "source": [
    "Hints:\n",
    "\n",
    "    You should first create a list of all player IDs and their computed statistic, by calling formula for every player in the statistics\\color{red}{\\verb|statistics|}statistics list.\n",
    "    You can then sort this resulting list appropriately and select the top numplayers\\color{red}{\\verb|numplayers|}numplayers items from the list to return.\n",
    "\n",
    "Next, you will write lookup_player_names\\color{red}{\\verb|lookup_player_names|}lookup_player_names. This function should take a list of tuples in the same form that is returned from top_player_ids\\color{red}{\\verb|top_player_ids|}top_player_ids. From that information, this function should create a list of strings of the form \"x.xxx --- FirstName LastName\". For example, \"0.325 --- Scott Rixner\". The floating point statistics must be converted to a consistent format with one digit before and three digits after the decimal point. The lookup_player_names\\color{red}{\\verb|lookup_player_names|}lookup_player_names function has the following signature:"
   ]
  },
  {
   "cell_type": "markdown",
   "metadata": {},
   "source": [
    "def lookup_player_names(info, top_ids_and_stats):\n",
    "    \"\"\"\n",
    "    Inputs:\n",
    "      info              - Baseball data information dictionary\n",
    "      top_ids_and_stats - list of tuples containing player IDs and\n",
    "                          computed statistics\n",
    "    Outputs:\n",
    "      List of strings of the form \"x.xxx --- FirstName LastName\",\n",
    "      where \"x.xxx\" is a string conversion of the float stat in\n",
    "      the input and \"FirstName LastName\" is the name of the player\n",
    "      corresponding to the player ID in the input.\n",
    "    \"\"\""
   ]
  },
  {
   "cell_type": "markdown",
   "metadata": {},
   "source": [
    "Hints:\n",
    "\n",
    "    The info\\color{red}{\\verb|info|}info dictionary contains all of the information you need to access the appropriate CSV file(s) to convert player IDs into player names.\n",
    "    You may want to review the string processing and formatting ideas from our previous class and/or review the Python documentation on strings. In particular, make sure you use the f\\color{red}{\\verb!f!}f type to format floating point numbers.\n",
    "\n",
    "Finally, you will write compute_top_stats_year\\color{red}{\\verb|compute_top_stats_year|}compute_top_stats_year. This function takes a baseball info\\color{red}{\\verb|info|}info dictionary, a compound statistics formula\\color{red}{\\verb|formula|}formula, the number of top players to find, numplayers\\color{red}{\\verb|numplayers|}numplayers, and a year\\color{red}{\\verb|year|}year. It should use that information to return a list of strings of the same form as returned by lookup_player_names\\color{red}{\\verb|lookup_player_names|}lookup_player_names that correspond to the numplayers\\color{red}{\\verb|numplayers|}numplayers players from the given year with the highest compound statistic computed by formula\\color{red}{\\verb|formula|}formula. The compute_top_stats_year\\color{red}{\\verb|compute_top_stats_year|}compute_top_stats_year function has the following signature:"
   ]
  },
  {
   "cell_type": "markdown",
   "metadata": {},
   "source": [
    "def compute_top_stats_year(info, formula, numplayers, year):\n",
    "    \"\"\"\n",
    "    Inputs:\n",
    "      info        - Baseball data information dictionary\n",
    "      formula     - function that takes an info dictionary and a\n",
    "                    batting statistics dictionary as input and \n",
    "                    computes a compound statistic\n",
    "      numplayers  - Number of top players to return\n",
    "      year        - Year to compute top statistics for\n",
    "    Outputs:\n",
    "      Returns a list of strings for the top numplayers in the given year\n",
    "      according to the given formula.\n",
    "    \"\"\""
   ]
  },
  {
   "cell_type": "markdown",
   "metadata": {},
   "source": [
    "Hints:\n",
    "\n",
    "    This function should make use of the previous functions you wrote and the provided functions. There should not be a lot of code in this function, rather you are just putting together what you have already done.\n",
    "    Notice there are no statistics given as input to this function. You need to read them from the appropriate CSV file(s). Make sure you read them in the format that is needed by the functions you have already written."
   ]
  },
  {
   "cell_type": "heading",
   "metadata": {},
   "level": 1,
   "source": [
    "Part 2 - Compute players with top batting statistics by career"
   ]
  },
  {
   "cell_type": "markdown",
   "metadata": {},
   "source": [
    "Your task for this part of the project will be to write two more functions that can used along with the other four functions to compute the top players based on a provided statistical formula for their entire career. These functions will aggregate the yearly data in data that spans and player's career and then compute the provided statistic on this data.\n",
    "\n",
    "First, you will write aggregate_by_player_id\\color{red}{\\verb|aggregate_by_player_id|}aggregate_by_player_id. The batting statistics are again given as a list of batting statistics dictionaries of the same format that was used by the functions in Part 1. The column name for the player ID field is given as playerid\\color{red}{\\verb|playerid|}playerid, and the fields\\color{red}{\\verb|fields|}fields input is a list of the names of the columns that should be aggregated. Note that the fields\\color{red}{\\verb|fields|}fields input is necessary because not all of the batting statistics can (or should) be aggregated. For example, it doesn't make sense to sum up the years of the statistics! This function should produce a dictionary of dictionaries. The outer dictionary should map player IDs to batting statistics dictionaries. The batting statistics dictionaries should have keys for playerid\\color{red}{\\verb|playerid|}playerid and all of the field names in fields\\color{red}{\\verb|fields|}fields, all mapped to the appropriate values. The batting statistics should be the sum of all of the statistics within the statistics\\color{red}{\\verb|statistics|}statistics input that correspond to each playerid\\color{red}{\\verb|playerid|}playerid. So, for example, if the input contains data for two years of a particular player, the output should contain one entry for that player with the statistics that are the sum of those two years. The aggregate_by_player_id\\color{red}{\\verb|aggregate_by_player_id|}aggregate_by_player_id function has the following signature:"
   ]
  },
  {
   "cell_type": "markdown",
   "metadata": {},
   "source": [
    "def aggregate_by_player_id(statistics, playerid, fields):\n",
    "    \"\"\"\n",
    "    Inputs:\n",
    "      statistics - List of batting statistics dictionaries\n",
    "      playerid   - Player ID field name\n",
    "      fields     - List of fields to aggregate\n",
    "    Output:\n",
    "      Returns a nested dictionary whose keys are player IDs and whose values\n",
    "      are dictionaries of aggregated stats.  Only the fields from the fields\n",
    "      input will be aggregated in the aggregated stats dictionaries.\n",
    "    \"\"\""
   ]
  },
  {
   "cell_type": "markdown",
   "metadata": {},
   "source": [
    "Hints:\n",
    "\n",
    "    The output format is a dictionary with keys that are player IDs to simplify the processing required within this function. The first time you see a particular player, you will need to create a new entry in the dictionary. Thereafter, you can simply update the statistics that are already there.\n",
    "    Be careful about how you access and update the dictionaries in this function. There are a lot of dictionaries and it can be difficult to keep everything straight.\n",
    "\n",
    "Finally, you will write compute_top_stats_career\\color{red}{\\verb|compute_top_stats_career|}compute_top_stats_career. This function is very similar to compute_top_stats_year\\color{red}{\\verb|compute_top_stats_year|}compute_top_stats_year, but you will first need to aggregate the statistics for each player so that you are operating on career statistics, instead of statistics for a particular year. It should return a list of strings of the same form as returned by lookup_player_names\\color{red}{\\verb|lookup_player_names|}lookup_player_names that correspond to the numplayers\\color{red}{\\verb|numplayers|}numplayers players with the highest compound statistic computed by formula\\color{red}{\\verb|formula|}formula for their careers. The compute_top_stats_career\\color{red}{\\verb|compute_top_stats_career|}compute_top_stats_career function has the following signature:"
   ]
  },
  {
   "cell_type": "markdown",
   "metadata": {},
   "source": [
    "def compute_top_stats_career(info, formula, numplayers):\n",
    "    \"\"\"\n",
    "    Inputs:\n",
    "      info        - Baseball data information dictionary\n",
    "      formula     - function that takes an info dictionary and a\n",
    "                    batting statistics dictionary as input and \n",
    "                    computes a compound statistic\n",
    "      numplayers  - Number of top players to return\n",
    "    \"\"\""
   ]
  },
  {
   "cell_type": "markdown",
   "metadata": {},
   "source": [
    "Hints:\n",
    "\n",
    "    This function should make use of the previous functions you wrote and the provided functions. There should not be a lot of code in this function, rather you are just putting together what you have already done.\n",
    "    Notice there are no statistics given as input to this function. You need to read them from the appropriate CSV file(s). Make sure you read them in the format that is needed by the functions you have already written.\n",
    "    Notice that the aggregate_by_player_id\\color{red}{\\verb|aggregate_by_player_id|}aggregate_by_player_id returns statistics in a different structure than is used by the other functions in this project. You will need to convert the data into the appropriate format before passing it to other functions.\n",
    "\n",
    "Testing your code\n",
    "\n",
    "Notice that the provided template includes a test_baseball_statistics\\color{red}{\\verb|test_baseball_statistics|}test_baseball_statistics function at the end. This code calls the functions you have written to compute top players based on various statistics. However, this code only works once you have written all of the functions and it operates on the full baseball data set. We strongly recommend you write smaller tests and utilize OwlTest to test each function individually. If something goes wrong, you will likely want to write smaller tests to help you understand how your code is working anyway. OwlTest uses smaller files to allow more targeted and understandable testing. You can use those files on your own, as well."
   ]
  },
  {
   "cell_type": "code",
   "execution_count": null,
   "metadata": {},
   "outputs": [],
   "source": []
  }
 ],
 "metadata": {
  "kernelspec": {
   "display_name": "Python 2",
   "language": "python",
   "name": "python2"
  },
  "language_info": {
   "codemirror_mode": {
    "name": "ipython",
    "version": 2
   },
   "file_extension": ".py",
   "mimetype": "text/x-python",
   "name": "python",
   "nbconvert_exporter": "python",
   "pygments_lexer": "ipython2",
   "version": "2.7.6"
  }
 },
 "nbformat": 4,
 "nbformat_minor": 0
}
