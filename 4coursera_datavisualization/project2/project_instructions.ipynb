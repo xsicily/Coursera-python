{
 "cells": [
  {
   "cell_type": "heading",
   "metadata": {
    "collapsed": true
   },
   "level": 1,
   "source": [
    "Project: Plotting GDP Data on a World Map - Part 1"
   ]
  },
  {
   "cell_type": "heading",
   "metadata": {},
   "level": 2,
   "source": [
    "Provided Files"
   ]
  },
  {
   "cell_type": "markdown",
   "metadata": {},
   "source": [
    "We will again use the World Bank data from the last week's project for this two-part project. Our version of this data is available here as a CSV file. Please use this version for your project since having everyone work from the same data set will make testing your code much easier.\n",
    "\n",
    "We have provided the following template that you can use to get you started on the project. It includes the signatures (name, parameters, and docstrings) for all of the functions that you will need to write. The code however, simply returns some arbitrary value no matter what the inputs are, so you will need to modify the body of the function to work correctly. You should not change the signature of any of the functions in the template, but you may add any code that you need to.\n",
    "\n",
    "As with the last project, we will again use a gdpinfo dictionary to specify information about the GDP data file. The gdpinfo dictionary is exactly the same as before and contains the following keys, all of which are strings (the use of these keys will become apparent as you work on the project, you may want to refer back to this information as you work on the different parts of the project):\n",
    "\n",
    "    \"gdpfile\": the name of the CSV file that contains GDP data.\n",
    "    \"separator\": the delimiter character used in the CSV file.\n",
    "    \"quote\": the quote character used in the CSV file.\n",
    "    \"min_year\": the oldest year for which there is data in the CSV file.\n",
    "    \"max_year\": the most recent year for which there is data in the CSV file.\n",
    "    \"country_name\": the name of the column header for the country names.\n",
    "    \"country_code\": the name of the column header for the country codes.\n",
    "\n",
    "If you look in the template file, you will see an example of such an \"gdpinfo\" dictionary that is used to access the GDP data from the World Bank discussed above.\n",
    "\n",
    "While we have provide real GDP data, we strongly recommend you write smaller tests and utilize OwlTest to test each function you write. If something goes wrong, you will likely want to write smaller tests to help you understand how your code is working anyway. OwlTest uses smaller files to allow more targeted and understandable testing. You can use those files on your own, as well. Once you have everything working, you should be able to operate on the real data."
   ]
  },
  {
   "cell_type": "heading",
   "metadata": {},
   "level": 2,
   "source": [
    "Problem 1: Create a dictionary that maps Pygal country codes to World Bank country names"
   ]
  },
  {
   "cell_type": "markdown",
   "metadata": {},
   "source": [
    "The main task of this project is to process the World Bank GDP data and build a dictionary whose values represented the GDP data for a given year that can be plotted with Pygal. The key step in this process is reconciling Pygal country codes/names with the World Bank country names. So, you first must write a function called reconcile_countries_by_name\\color{red}{\\verb|reconcile_countries_by_name|}reconcile_countries_by_name which takes plot_countries\\color{red}{\\verb|plot_countries|}plot_countries, a dictionary mapping country codes used by a plot library (such as Pygal) to the corresponding country name, and gdp_countries\\color{red}{\\verb|gdp_countries|}gdp_countries, a dictionary whose keys are the country names used within the GDP data. The values in the gdp_countries\\color{red}{\\verb|gdp_countries|}gdp_countries dictionary are irrelevant for this function, but presumably contain GDP data for each country. The reconcile_countries_by_name\\color{red}{\\verb|reconcile_countries_by_name|}reconcile_countries_by_name function should return a dictionary and a set. The dictionary should map the country codes from plot_countries\\color{red}{\\verb|plot_countries|}plot_countries to country names that match between plot_countries\\color{red}{\\verb|plot_countries|}plot_countries and gdp_countries\\color{red}{\\verb|gdp_countries|}gdp_countries. It should not contain key-value pairs for the countries within plot_countries\\color{red}{\\verb|plot_countries|}plot_countries that do not appear in gdp_countries\\color{red}{\\verb|gdp_countries|}gdp_countries. The set should contain all of the country codes within plot_countries\\color{red}{\\verb|plot_countries|}plot_countries that did not match any countries in gdp_countries\\color{red}{\\verb|gdp_countries|}gdp_countries, so is effectively the set of countries that the plot library knows about but cannot be found within the GDP data.\n",
    "\n",
    "Here is the signature of the reconcile_countries_by_name\\color{red}{\\verb|reconcile_countries_by_name|}reconcile_countries_by_name function:"
   ]
  },
  {
   "cell_type": "markdown",
   "metadata": {},
   "source": [
    "def reconcile_countries_by_name(plot_countries, gdp_countries):\n",
    "    \"\"\"\n",
    "    Inputs:\n",
    "      plot_countries - Dictionary whose keys are plot library country codes\n",
    "                       and values are the corresponding country name\n",
    "      gdp_countries  - Dictionary whose keys are country names used in GDP data\n",
    "\n",
    "    Output:\n",
    "      A tuple containing a dictionary and a set.  The dictionary maps\n",
    "      country codes from plot_countries to country names from\n",
    "      gdp_countries The set contains the country codes from\n",
    "      plot_countries that were not found in gdp_countries.\n",
    "    \"\"\""
   ]
  },
  {
   "cell_type": "markdown",
   "metadata": {},
   "source": [
    "You need to write the code that implements this function.\n",
    "\n",
    "Hints:\n",
    "\n",
    "    Be sure to look at the contents of the returned set. This should give you an understanding of how well the two sets of country names agree.\n",
    "    If you code runs correctly, using the Pygal countries and the World Bank data, there should be 303030 countries that are not found in the World Bank data. Examine these missing names and consider how to improve the mapping from Pygal country codes to World Bank country names. This topic will be the focus of next week's project."
   ]
  },
  {
   "cell_type": "heading",
   "metadata": {},
   "level": 2,
   "source": [
    "Problem 2: Transform GDP data for given year into a form suitable for a world map plot"
   ]
  },
  {
   "cell_type": "markdown",
   "metadata": {},
   "source": [
    "Your next task is to implement the main function that processes GDP data. You must write a function called build_map_dict_by_name\\color{red}{\\verb|build_map_dict_by_name|}build_map_dict_by_name which takes gdpinfo\\color{red}{\\verb!gdpinfo!}gdpinfo, a GDP information dictionary (as used in the first project), plot_countries\\color{red}{\\verb|plot_countries|}plot_countries, a dictionary mapping country codes used by a plot library (such as Pygal) to the corresponding country name, and year\\color{red}{\\verb|year|}year, the year for which to create a GDP map dictionary, expressed as a string. The build_map_dict_by_name\\color{red}{\\verb|build_map_dict_by_name|}build_map_dict_by_name function should return a dictionary and two sets. The dictionary should map the country codes from plot_countries\\color{red}{\\verb|plot_countries|}plot_countries to the log (base 10) of the GDP for the associated country in the given year. (The logarithmic scaling is chosen to yield a better distribution of color shades in the final plot.) The first set should contain the country codes from plot_countries\\color{red}{\\verb|plot_countries|}plot_countries that were not found in the GDP data file. The second set contains the country codes from plot_countries\\color{red}{\\verb|plot_countries|}plot_countries that were found in the GDP data file, but have no GDP information for the specified year.\n",
    "\n",
    "Here is the signature of the build_map_dict_by_name\\color{red}{\\verb|build_map_dict_by_name|}build_map_dict_by_name function:"
   ]
  },
  {
   "cell_type": "markdown",
   "metadata": {},
   "source": [
    "def build_map_dict_by_name(gdpinfo, plot_countries, year):\n",
    "    \"\"\"\n",
    "    Inputs:\n",
    "      gdpinfo        - A GDP information dictionary\n",
    "      plot_countries - Dictionary whose keys are plot library country codes\n",
    "                       and values are the corresponding country name\n",
    "      year           - String year to create GDP mapping for\n",
    "\n",
    "    Output: \n",
    "      A tuple containing a dictionary and two sets.  The dictionary\n",
    "      maps country codes from plot_countries to the log (base 10) of\n",
    "      the GDP value for that country in the specified year.  The first\n",
    "      set contains the country codes from plot_countries that were not\n",
    "      found in the GDP data file.  The second set contains the country\n",
    "      codes from plot_countries that were found in the GDP data file, but\n",
    "      have no GDP data for the specified year.\n",
    "    \"\"\""
   ]
  },
  {
   "cell_type": "markdown",
   "metadata": {},
   "source": [
    "You need to write the code that implements this function.\n",
    "\n",
    "Hints:\n",
    "\n",
    "    You should be using functions that you have already written in your implementation of this function. In particular, remember that you have already written a function to read a CSV file for the last project!\n",
    "    You might find the Python math\\color{red}{\\verb!math!}math module to be helpful.\n",
    "    When the World Bank does not have GDP data for a country for a specific year, the field will be empty. This will be read as an empty string.\n",
    "    If you examine the World Bank GDP data downloaded directly from the World Bank site, you will note that the GDP information for Congo uses the number '0'\\color{red}{\\verb|'0'|}’0’ to indicate no GDP for the years up until 199119911991. We have edited the data to replaced '0'\\color{red}{\\verb|'0'|}’0’ by the empty string so that missing GDP data is represented uniformly."
   ]
  },
  {
   "cell_type": "heading",
   "metadata": {},
   "level": 2,
   "source": [
    "Problem 3: Create an SVG image of the GDP data plotted on the world map"
   ]
  },
  {
   "cell_type": "markdown",
   "metadata": {},
   "source": [
    "As the final part of this project, your task is to write a function that takes the GDP map information computed using build_map_dict_by_name\\color{red}{\\verb|build_map_dict_by_name|}build_map_dict_by_name and create a world map plot using Pygal. You should write a function called render_world_map\\color{red}{\\verb|render_world_map|}render_world_map which takes gdpinfo\\color{red}{\\verb!gdpinfo!}gdpinfo, a GDP information dictionary, plot_countries\\color{red}{\\verb|plot_countries|}plot_countries, a dictionary mapping country codes used by Pygal to the corresponding country name, and year\\color{red}{\\verb|year|}year, the string year for which to create a GDP map dictionary, and map_file\\color{red}{\\verb|map_file|}map_file, the string name of the file to write the output plot to.\n",
    "\n",
    "Using these inputs, you should use Pygal to plot the logarithmically-scaled GDP data on a world map. Review Pygal's documentation on world maps for more details. Make sure that you plot not only the GDP data, but also the countries which are missing from the GDP data entirely and the countries that are contained within the GDP data, but have no data for the given year.\n",
    "\n",
    "The output plot should be stored in an SVG file with the name specified by the map_file\\color{red}{\\verb|map_file|}map_file input.\n",
    "\n",
    "Here is the signature of the render_world_map\\color{red}{\\verb|render_world_map|}render_world_map function:"
   ]
  },
  {
   "cell_type": "markdown",
   "metadata": {},
   "source": [
    "def render_world_map(gdpinfo, plot_countries, year, map_file):\n",
    "    \"\"\"\n",
    "    Inputs:\n",
    "      gdpinfo        - A GDP information dictionary\n",
    "      plot_countries - Dictionary whose keys are plot library country codes\n",
    "                       and values are the corresponding country name\n",
    "      year           - String year to create GDP mapping for\n",
    "      map_file       - Name of output file to create\n",
    "\n",
    "    Output:\n",
    "      Returns None.\n",
    "\n",
    "    Action:\n",
    "      Creates a world map plot of the GDP data for the given year and\n",
    "      writes it to a file named by map_file.\n",
    "    \"\"\""
   ]
  },
  {
   "cell_type": "markdown",
   "metadata": {},
   "source": []
  }
 ],
 "metadata": {
  "kernelspec": {
   "display_name": "Python 2",
   "language": "python",
   "name": "python2"
  },
  "language_info": {
   "codemirror_mode": {
    "name": "ipython",
    "version": 2
   },
   "file_extension": ".py",
   "mimetype": "text/x-python",
   "name": "python",
   "nbconvert_exporter": "python",
   "pygments_lexer": "ipython2",
   "version": "2.7.6"
  }
 },
 "nbformat": 4,
 "nbformat_minor": 0
}
